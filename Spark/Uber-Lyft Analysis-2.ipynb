{
 "cells": [
  {
   "cell_type": "markdown",
   "metadata": {},
   "source": [
    "# Cabs Analysis 2018 (Nov-Dec)\n",
    "\n",
    "## 1. PySpark environment setup"
   ]
  },
  {
   "cell_type": "code",
   "execution_count": 1,
   "metadata": {},
   "outputs": [],
   "source": [
    "import pandas as pd\n",
    "\n",
    "cabs=pd.read_csv('cab_rides.csv')"
   ]
  },
  {
   "cell_type": "code",
   "execution_count": 2,
   "metadata": {},
   "outputs": [
    {
     "data": {
      "text/html": [
       "<div>\n",
       "<style scoped>\n",
       "    .dataframe tbody tr th:only-of-type {\n",
       "        vertical-align: middle;\n",
       "    }\n",
       "\n",
       "    .dataframe tbody tr th {\n",
       "        vertical-align: top;\n",
       "    }\n",
       "\n",
       "    .dataframe thead th {\n",
       "        text-align: right;\n",
       "    }\n",
       "</style>\n",
       "<table border=\"1\" class=\"dataframe\">\n",
       "  <thead>\n",
       "    <tr style=\"text-align: right;\">\n",
       "      <th></th>\n",
       "      <th>distance</th>\n",
       "      <th>cab_type</th>\n",
       "      <th>time_stamp</th>\n",
       "      <th>destination</th>\n",
       "      <th>source</th>\n",
       "      <th>price</th>\n",
       "      <th>surge_multiplier</th>\n",
       "      <th>id</th>\n",
       "      <th>product_id</th>\n",
       "      <th>name</th>\n",
       "    </tr>\n",
       "  </thead>\n",
       "  <tbody>\n",
       "    <tr>\n",
       "      <th>0</th>\n",
       "      <td>0.44</td>\n",
       "      <td>Lyft</td>\n",
       "      <td>1544952607890</td>\n",
       "      <td>North Station</td>\n",
       "      <td>Haymarket Square</td>\n",
       "      <td>5.0</td>\n",
       "      <td>1.0</td>\n",
       "      <td>424553bb-7174-41ea-aeb4-fe06d4f4b9d7</td>\n",
       "      <td>lyft_line</td>\n",
       "      <td>Shared</td>\n",
       "    </tr>\n",
       "    <tr>\n",
       "      <th>1</th>\n",
       "      <td>0.44</td>\n",
       "      <td>Lyft</td>\n",
       "      <td>1543284023677</td>\n",
       "      <td>North Station</td>\n",
       "      <td>Haymarket Square</td>\n",
       "      <td>11.0</td>\n",
       "      <td>1.0</td>\n",
       "      <td>4bd23055-6827-41c6-b23b-3c491f24e74d</td>\n",
       "      <td>lyft_premier</td>\n",
       "      <td>Lux</td>\n",
       "    </tr>\n",
       "    <tr>\n",
       "      <th>2</th>\n",
       "      <td>0.44</td>\n",
       "      <td>Lyft</td>\n",
       "      <td>1543366822198</td>\n",
       "      <td>North Station</td>\n",
       "      <td>Haymarket Square</td>\n",
       "      <td>7.0</td>\n",
       "      <td>1.0</td>\n",
       "      <td>981a3613-77af-4620-a42a-0c0866077d1e</td>\n",
       "      <td>lyft</td>\n",
       "      <td>Lyft</td>\n",
       "    </tr>\n",
       "    <tr>\n",
       "      <th>3</th>\n",
       "      <td>0.44</td>\n",
       "      <td>Lyft</td>\n",
       "      <td>1543553582749</td>\n",
       "      <td>North Station</td>\n",
       "      <td>Haymarket Square</td>\n",
       "      <td>26.0</td>\n",
       "      <td>1.0</td>\n",
       "      <td>c2d88af2-d278-4bfd-a8d0-29ca77cc5512</td>\n",
       "      <td>lyft_luxsuv</td>\n",
       "      <td>Lux Black XL</td>\n",
       "    </tr>\n",
       "    <tr>\n",
       "      <th>4</th>\n",
       "      <td>0.44</td>\n",
       "      <td>Lyft</td>\n",
       "      <td>1543463360223</td>\n",
       "      <td>North Station</td>\n",
       "      <td>Haymarket Square</td>\n",
       "      <td>9.0</td>\n",
       "      <td>1.0</td>\n",
       "      <td>e0126e1f-8ca9-4f2e-82b3-50505a09db9a</td>\n",
       "      <td>lyft_plus</td>\n",
       "      <td>Lyft XL</td>\n",
       "    </tr>\n",
       "    <tr>\n",
       "      <th>5</th>\n",
       "      <td>0.44</td>\n",
       "      <td>Lyft</td>\n",
       "      <td>1545071112138</td>\n",
       "      <td>North Station</td>\n",
       "      <td>Haymarket Square</td>\n",
       "      <td>16.5</td>\n",
       "      <td>1.0</td>\n",
       "      <td>f6f6d7e4-3e18-4922-a5f5-181cdd3fa6f2</td>\n",
       "      <td>lyft_lux</td>\n",
       "      <td>Lux Black</td>\n",
       "    </tr>\n",
       "    <tr>\n",
       "      <th>6</th>\n",
       "      <td>1.08</td>\n",
       "      <td>Lyft</td>\n",
       "      <td>1543208580200</td>\n",
       "      <td>Northeastern University</td>\n",
       "      <td>Back Bay</td>\n",
       "      <td>10.5</td>\n",
       "      <td>1.0</td>\n",
       "      <td>462816a3-820d-408b-8549-0b39e82f65ac</td>\n",
       "      <td>lyft_plus</td>\n",
       "      <td>Lyft XL</td>\n",
       "    </tr>\n",
       "    <tr>\n",
       "      <th>7</th>\n",
       "      <td>1.08</td>\n",
       "      <td>Lyft</td>\n",
       "      <td>1543780384677</td>\n",
       "      <td>Northeastern University</td>\n",
       "      <td>Back Bay</td>\n",
       "      <td>16.5</td>\n",
       "      <td>1.0</td>\n",
       "      <td>474d6376-bc59-4ec9-bf57-4e6d6faeb165</td>\n",
       "      <td>lyft_lux</td>\n",
       "      <td>Lux Black</td>\n",
       "    </tr>\n",
       "    <tr>\n",
       "      <th>8</th>\n",
       "      <td>1.08</td>\n",
       "      <td>Lyft</td>\n",
       "      <td>1543818482645</td>\n",
       "      <td>Northeastern University</td>\n",
       "      <td>Back Bay</td>\n",
       "      <td>3.0</td>\n",
       "      <td>1.0</td>\n",
       "      <td>4f9fee41-fde3-4767-bbf1-a00e108701fb</td>\n",
       "      <td>lyft_line</td>\n",
       "      <td>Shared</td>\n",
       "    </tr>\n",
       "    <tr>\n",
       "      <th>9</th>\n",
       "      <td>1.08</td>\n",
       "      <td>Lyft</td>\n",
       "      <td>1543315522249</td>\n",
       "      <td>Northeastern University</td>\n",
       "      <td>Back Bay</td>\n",
       "      <td>27.5</td>\n",
       "      <td>1.0</td>\n",
       "      <td>8612d909-98b8-4454-a093-30bd48de0cb3</td>\n",
       "      <td>lyft_luxsuv</td>\n",
       "      <td>Lux Black XL</td>\n",
       "    </tr>\n",
       "  </tbody>\n",
       "</table>\n",
       "</div>"
      ],
      "text/plain": [
       "   distance cab_type     time_stamp              destination  \\\n",
       "0      0.44     Lyft  1544952607890            North Station   \n",
       "1      0.44     Lyft  1543284023677            North Station   \n",
       "2      0.44     Lyft  1543366822198            North Station   \n",
       "3      0.44     Lyft  1543553582749            North Station   \n",
       "4      0.44     Lyft  1543463360223            North Station   \n",
       "5      0.44     Lyft  1545071112138            North Station   \n",
       "6      1.08     Lyft  1543208580200  Northeastern University   \n",
       "7      1.08     Lyft  1543780384677  Northeastern University   \n",
       "8      1.08     Lyft  1543818482645  Northeastern University   \n",
       "9      1.08     Lyft  1543315522249  Northeastern University   \n",
       "\n",
       "             source  price  surge_multiplier  \\\n",
       "0  Haymarket Square    5.0               1.0   \n",
       "1  Haymarket Square   11.0               1.0   \n",
       "2  Haymarket Square    7.0               1.0   \n",
       "3  Haymarket Square   26.0               1.0   \n",
       "4  Haymarket Square    9.0               1.0   \n",
       "5  Haymarket Square   16.5               1.0   \n",
       "6          Back Bay   10.5               1.0   \n",
       "7          Back Bay   16.5               1.0   \n",
       "8          Back Bay    3.0               1.0   \n",
       "9          Back Bay   27.5               1.0   \n",
       "\n",
       "                                     id    product_id          name  \n",
       "0  424553bb-7174-41ea-aeb4-fe06d4f4b9d7     lyft_line        Shared  \n",
       "1  4bd23055-6827-41c6-b23b-3c491f24e74d  lyft_premier           Lux  \n",
       "2  981a3613-77af-4620-a42a-0c0866077d1e          lyft          Lyft  \n",
       "3  c2d88af2-d278-4bfd-a8d0-29ca77cc5512   lyft_luxsuv  Lux Black XL  \n",
       "4  e0126e1f-8ca9-4f2e-82b3-50505a09db9a     lyft_plus       Lyft XL  \n",
       "5  f6f6d7e4-3e18-4922-a5f5-181cdd3fa6f2      lyft_lux     Lux Black  \n",
       "6  462816a3-820d-408b-8549-0b39e82f65ac     lyft_plus       Lyft XL  \n",
       "7  474d6376-bc59-4ec9-bf57-4e6d6faeb165      lyft_lux     Lux Black  \n",
       "8  4f9fee41-fde3-4767-bbf1-a00e108701fb     lyft_line        Shared  \n",
       "9  8612d909-98b8-4454-a093-30bd48de0cb3   lyft_luxsuv  Lux Black XL  "
      ]
     },
     "execution_count": 2,
     "metadata": {},
     "output_type": "execute_result"
    }
   ],
   "source": [
    "cabs.head(10)"
   ]
  },
  {
   "cell_type": "code",
   "execution_count": 3,
   "metadata": {},
   "outputs": [
    {
     "name": "stdout",
     "output_type": "stream",
     "text": [
      "   distance cab_type              time_stamp              destination  \\\n",
      "0      0.44     Lyft 2018-12-16 09:30:07.890            North Station   \n",
      "1      0.44     Lyft 2018-11-27 02:00:23.677            North Station   \n",
      "2      0.44     Lyft 2018-11-28 01:00:22.198            North Station   \n",
      "3      0.44     Lyft 2018-11-30 04:53:02.749            North Station   \n",
      "4      0.44     Lyft 2018-11-29 03:49:20.223            North Station   \n",
      "5      0.44     Lyft 2018-12-17 18:25:12.138            North Station   \n",
      "6      1.08     Lyft 2018-11-26 05:03:00.200  Northeastern University   \n",
      "7      1.08     Lyft 2018-12-02 19:53:04.677  Northeastern University   \n",
      "8      1.08     Lyft 2018-12-03 06:28:02.645  Northeastern University   \n",
      "9      1.08     Lyft 2018-11-27 10:45:22.249  Northeastern University   \n",
      "\n",
      "             source  price  surge_multiplier  \\\n",
      "0  Haymarket Square    5.0               1.0   \n",
      "1  Haymarket Square   11.0               1.0   \n",
      "2  Haymarket Square    7.0               1.0   \n",
      "3  Haymarket Square   26.0               1.0   \n",
      "4  Haymarket Square    9.0               1.0   \n",
      "5  Haymarket Square   16.5               1.0   \n",
      "6          Back Bay   10.5               1.0   \n",
      "7          Back Bay   16.5               1.0   \n",
      "8          Back Bay    3.0               1.0   \n",
      "9          Back Bay   27.5               1.0   \n",
      "\n",
      "                                     id    product_id          name  \n",
      "0  424553bb-7174-41ea-aeb4-fe06d4f4b9d7     lyft_line        Shared  \n",
      "1  4bd23055-6827-41c6-b23b-3c491f24e74d  lyft_premier           Lux  \n",
      "2  981a3613-77af-4620-a42a-0c0866077d1e          lyft          Lyft  \n",
      "3  c2d88af2-d278-4bfd-a8d0-29ca77cc5512   lyft_luxsuv  Lux Black XL  \n",
      "4  e0126e1f-8ca9-4f2e-82b3-50505a09db9a     lyft_plus       Lyft XL  \n",
      "5  f6f6d7e4-3e18-4922-a5f5-181cdd3fa6f2      lyft_lux     Lux Black  \n",
      "6  462816a3-820d-408b-8549-0b39e82f65ac     lyft_plus       Lyft XL  \n",
      "7  474d6376-bc59-4ec9-bf57-4e6d6faeb165      lyft_lux     Lux Black  \n",
      "8  4f9fee41-fde3-4767-bbf1-a00e108701fb     lyft_line        Shared  \n",
      "9  8612d909-98b8-4454-a093-30bd48de0cb3   lyft_luxsuv  Lux Black XL  \n"
     ]
    }
   ],
   "source": [
    "from datetime import datetime\n",
    "from datetime import *\n",
    "\n",
    "cabs['time_stamp'] = pd.to_datetime(cabs['time_stamp'], unit='ms')\n",
    "\n",
    "\n",
    "print(cabs.head(10))"
   ]
  },
  {
   "cell_type": "code",
   "execution_count": 4,
   "metadata": {
    "scrolled": true
   },
   "outputs": [
    {
     "name": "stdout",
     "output_type": "stream",
     "text": [
      "   distance cab_type              time_stamp              destination  \\\n",
      "0      0.44     Lyft 2018-12-16 09:30:07.890            North Station   \n",
      "1      0.44     Lyft 2018-11-27 02:00:23.677            North Station   \n",
      "2      0.44     Lyft 2018-11-28 01:00:22.198            North Station   \n",
      "3      0.44     Lyft 2018-11-30 04:53:02.749            North Station   \n",
      "4      0.44     Lyft 2018-11-29 03:49:20.223            North Station   \n",
      "5      0.44     Lyft 2018-12-17 18:25:12.138            North Station   \n",
      "6      1.08     Lyft 2018-11-26 05:03:00.200  Northeastern University   \n",
      "7      1.08     Lyft 2018-12-02 19:53:04.677  Northeastern University   \n",
      "8      1.08     Lyft 2018-12-03 06:28:02.645  Northeastern University   \n",
      "9      1.08     Lyft 2018-11-27 10:45:22.249  Northeastern University   \n",
      "\n",
      "             source  price  surge_multiplier  \\\n",
      "0  Haymarket Square    5.0               1.0   \n",
      "1  Haymarket Square   11.0               1.0   \n",
      "2  Haymarket Square    7.0               1.0   \n",
      "3  Haymarket Square   26.0               1.0   \n",
      "4  Haymarket Square    9.0               1.0   \n",
      "5  Haymarket Square   16.5               1.0   \n",
      "6          Back Bay   10.5               1.0   \n",
      "7          Back Bay   16.5               1.0   \n",
      "8          Back Bay    3.0               1.0   \n",
      "9          Back Bay   27.5               1.0   \n",
      "\n",
      "                                     id    product_id          name  day  \\\n",
      "0  424553bb-7174-41ea-aeb4-fe06d4f4b9d7     lyft_line        Shared   16   \n",
      "1  4bd23055-6827-41c6-b23b-3c491f24e74d  lyft_premier           Lux   27   \n",
      "2  981a3613-77af-4620-a42a-0c0866077d1e          lyft          Lyft   28   \n",
      "3  c2d88af2-d278-4bfd-a8d0-29ca77cc5512   lyft_luxsuv  Lux Black XL   30   \n",
      "4  e0126e1f-8ca9-4f2e-82b3-50505a09db9a     lyft_plus       Lyft XL   29   \n",
      "5  f6f6d7e4-3e18-4922-a5f5-181cdd3fa6f2      lyft_lux     Lux Black   17   \n",
      "6  462816a3-820d-408b-8549-0b39e82f65ac     lyft_plus       Lyft XL   26   \n",
      "7  474d6376-bc59-4ec9-bf57-4e6d6faeb165      lyft_lux     Lux Black    2   \n",
      "8  4f9fee41-fde3-4767-bbf1-a00e108701fb     lyft_line        Shared    3   \n",
      "9  8612d909-98b8-4454-a093-30bd48de0cb3   lyft_luxsuv  Lux Black XL   27   \n",
      "\n",
      "   month  year  hour             time  \n",
      "0     12  2018     9  09:30:07.890000  \n",
      "1     11  2018     2  02:00:23.677000  \n",
      "2     11  2018     1  01:00:22.198000  \n",
      "3     11  2018     4  04:53:02.749000  \n",
      "4     11  2018     3  03:49:20.223000  \n",
      "5     12  2018    18  18:25:12.138000  \n",
      "6     11  2018     5  05:03:00.200000  \n",
      "7     12  2018    19  19:53:04.677000  \n",
      "8     12  2018     6  06:28:02.645000  \n",
      "9     11  2018    10  10:45:22.249000  \n"
     ]
    }
   ],
   "source": [
    "cabs['day'] = cabs['time_stamp'].dt.day\n",
    "cabs['month'] = cabs['time_stamp'].dt.month\n",
    "cabs['year'] = cabs['time_stamp'].dt.year\n",
    "cabs['hour'] = cabs['time_stamp'].dt.hour\n",
    "cabs['time'] = cabs['time_stamp'].dt.time\n",
    "\n",
    "\n",
    "print(cabs.head(10))"
   ]
  },
  {
   "cell_type": "code",
   "execution_count": 5,
   "metadata": {},
   "outputs": [],
   "source": [
    "cabs.drop(['time_stamp'],axis='columns', inplace=True)"
   ]
  },
  {
   "cell_type": "code",
   "execution_count": 6,
   "metadata": {},
   "outputs": [
    {
     "name": "stdout",
     "output_type": "stream",
     "text": [
      "   distance cab_type              destination            source  price  \\\n",
      "0      0.44     Lyft            North Station  Haymarket Square    5.0   \n",
      "1      0.44     Lyft            North Station  Haymarket Square   11.0   \n",
      "2      0.44     Lyft            North Station  Haymarket Square    7.0   \n",
      "3      0.44     Lyft            North Station  Haymarket Square   26.0   \n",
      "4      0.44     Lyft            North Station  Haymarket Square    9.0   \n",
      "5      0.44     Lyft            North Station  Haymarket Square   16.5   \n",
      "6      1.08     Lyft  Northeastern University          Back Bay   10.5   \n",
      "7      1.08     Lyft  Northeastern University          Back Bay   16.5   \n",
      "8      1.08     Lyft  Northeastern University          Back Bay    3.0   \n",
      "9      1.08     Lyft  Northeastern University          Back Bay   27.5   \n",
      "\n",
      "   surge_multiplier                                    id    product_id  \\\n",
      "0               1.0  424553bb-7174-41ea-aeb4-fe06d4f4b9d7     lyft_line   \n",
      "1               1.0  4bd23055-6827-41c6-b23b-3c491f24e74d  lyft_premier   \n",
      "2               1.0  981a3613-77af-4620-a42a-0c0866077d1e          lyft   \n",
      "3               1.0  c2d88af2-d278-4bfd-a8d0-29ca77cc5512   lyft_luxsuv   \n",
      "4               1.0  e0126e1f-8ca9-4f2e-82b3-50505a09db9a     lyft_plus   \n",
      "5               1.0  f6f6d7e4-3e18-4922-a5f5-181cdd3fa6f2      lyft_lux   \n",
      "6               1.0  462816a3-820d-408b-8549-0b39e82f65ac     lyft_plus   \n",
      "7               1.0  474d6376-bc59-4ec9-bf57-4e6d6faeb165      lyft_lux   \n",
      "8               1.0  4f9fee41-fde3-4767-bbf1-a00e108701fb     lyft_line   \n",
      "9               1.0  8612d909-98b8-4454-a093-30bd48de0cb3   lyft_luxsuv   \n",
      "\n",
      "           name  day  month  year  hour             time  \n",
      "0        Shared   16     12  2018     9  09:30:07.890000  \n",
      "1           Lux   27     11  2018     2  02:00:23.677000  \n",
      "2          Lyft   28     11  2018     1  01:00:22.198000  \n",
      "3  Lux Black XL   30     11  2018     4  04:53:02.749000  \n",
      "4       Lyft XL   29     11  2018     3  03:49:20.223000  \n",
      "5     Lux Black   17     12  2018    18  18:25:12.138000  \n",
      "6       Lyft XL   26     11  2018     5  05:03:00.200000  \n",
      "7     Lux Black    2     12  2018    19  19:53:04.677000  \n",
      "8        Shared    3     12  2018     6  06:28:02.645000  \n",
      "9  Lux Black XL   27     11  2018    10  10:45:22.249000  \n"
     ]
    }
   ],
   "source": [
    "print(cabs.head(10))"
   ]
  },
  {
   "cell_type": "code",
   "execution_count": 7,
   "metadata": {},
   "outputs": [],
   "source": [
    "cabs.to_csv('cabs.csv')"
   ]
  },
  {
   "cell_type": "code",
   "execution_count": 8,
   "metadata": {},
   "outputs": [
    {
     "name": "stderr",
     "output_type": "stream",
     "text": [
      "WARNING: An illegal reflective access operation has occurred\n",
      "WARNING: Illegal reflective access by org.apache.spark.unsafe.Platform (file:/opt/spark3/jars/spark-unsafe_2.12-3.0.3.jar) to constructor java.nio.DirectByteBuffer(long,int)\n",
      "WARNING: Please consider reporting this to the maintainers of org.apache.spark.unsafe.Platform\n",
      "WARNING: Use --illegal-access=warn to enable warnings of further illegal reflective access operations\n",
      "WARNING: All illegal access operations will be denied in a future release\n",
      "Setting default log level to \"WARN\".\n",
      "To adjust logging level use sc.setLogLevel(newLevel). For SparkR, use setLogLevel(newLevel).\n"
     ]
    }
   ],
   "source": [
    "import findspark\n",
    "findspark.init()\n",
    "\n",
    "from pyspark.context import SparkContext\n",
    "from pyspark.sql.session import SparkSession\n",
    "\n",
    "sc = SparkContext.getOrCreate()\n",
    "spark = SparkSession(sc)"
   ]
  },
  {
   "cell_type": "markdown",
   "metadata": {},
   "source": [
    "## 2. Data source and Spark data abstraction (DataFrame) setup"
   ]
  },
  {
   "cell_type": "code",
   "execution_count": 9,
   "metadata": {},
   "outputs": [
    {
     "name": "stderr",
     "output_type": "stream",
     "text": [
      "                                                                                \r"
     ]
    }
   ],
   "source": [
    "CabsDF = spark.read \\\n",
    "                 .option(\"inferSchema\", \"true\") \\\n",
    "                 .option(\"header\", \"true\") \\\n",
    "                 .csv(\"cabs.csv\")"
   ]
  },
  {
   "cell_type": "markdown",
   "metadata": {},
   "source": [
    "## 3. Data set metadata analysis\n",
    "### A. Display schema and size of the DataFrame"
   ]
  },
  {
   "cell_type": "code",
   "execution_count": 10,
   "metadata": {
    "scrolled": false
   },
   "outputs": [
    {
     "name": "stdout",
     "output_type": "stream",
     "text": [
      "root\n",
      " |-- _c0: integer (nullable = true)\n",
      " |-- distance: double (nullable = true)\n",
      " |-- cab_type: string (nullable = true)\n",
      " |-- destination: string (nullable = true)\n",
      " |-- source: string (nullable = true)\n",
      " |-- price: double (nullable = true)\n",
      " |-- surge_multiplier: double (nullable = true)\n",
      " |-- id: string (nullable = true)\n",
      " |-- product_id: string (nullable = true)\n",
      " |-- name: string (nullable = true)\n",
      " |-- day: integer (nullable = true)\n",
      " |-- month: integer (nullable = true)\n",
      " |-- year: integer (nullable = true)\n",
      " |-- hour: integer (nullable = true)\n",
      " |-- time: string (nullable = true)\n",
      "\n"
     ]
    },
    {
     "name": "stderr",
     "output_type": "stream",
     "text": [
      "                                                                                \r"
     ]
    },
    {
     "data": {
      "text/markdown": [
       "This DataFrame has **693071 rows**."
      ],
      "text/plain": [
       "<IPython.core.display.Markdown object>"
      ]
     },
     "metadata": {},
     "output_type": "display_data"
    }
   ],
   "source": [
    "from IPython.display import display, Markdown\n",
    "\n",
    "CabsDF.printSchema()\n",
    "display(Markdown(\"This DataFrame has **%d rows**.\" % CabsDF.count()))"
   ]
  },
  {
   "cell_type": "markdown",
   "metadata": {},
   "source": [
    "### B. Get one or multiple random samples from the data set"
   ]
  },
  {
   "cell_type": "code",
   "execution_count": 11,
   "metadata": {
    "scrolled": true
   },
   "outputs": [
    {
     "name": "stderr",
     "output_type": "stream",
     "text": [
      "                                                                                \r"
     ]
    },
    {
     "data": {
      "text/plain": [
       "[Row(_c0=2, distance=0.44, cab_type='Lyft', destination='North Station', source='Haymarket Square', price=7.0, surge_multiplier=1.0, id='981a3613-77af-4620-a42a-0c0866077d1e', product_id='lyft', name='Lyft', day=28, month=11, year=2018, hour=1, time='01:00:22.198000'),\n",
       " Row(_c0=11, distance=1.08, cab_type='Lyft', destination='Northeastern University', source='Back Bay', price=7.0, surge_multiplier=1.0, id='d859ec69-b3ff-4af8-9abd-441e31430c94', product_id='lyft', name='Lyft', day=28, month=11, year=2018, hour=19, time='19:23:07.778000')]"
      ]
     },
     "execution_count": 11,
     "metadata": {},
     "output_type": "execute_result"
    }
   ],
   "source": [
    "CabsDF.cache() # optimization to make the processing faster\n",
    "CabsDF.sample(False, 0.1).take(2)"
   ]
  },
  {
   "cell_type": "code",
   "execution_count": 12,
   "metadata": {},
   "outputs": [
    {
     "data": {
      "text/plain": [
       "[Row(_c0=0, distance=0.44, cab_type='Lyft', destination='North Station', source='Haymarket Square', price=5.0, surge_multiplier=1.0, id='424553bb-7174-41ea-aeb4-fe06d4f4b9d7', product_id='lyft_line', name='Shared', day=16, month=12, year=2018, hour=9, time='09:30:07.890000'),\n",
       " Row(_c0=1, distance=0.44, cab_type='Lyft', destination='North Station', source='Haymarket Square', price=11.0, surge_multiplier=1.0, id='4bd23055-6827-41c6-b23b-3c491f24e74d', product_id='lyft_premier', name='Lux', day=27, month=11, year=2018, hour=2, time='02:00:23.677000'),\n",
       " Row(_c0=2, distance=0.44, cab_type='Lyft', destination='North Station', source='Haymarket Square', price=7.0, surge_multiplier=1.0, id='981a3613-77af-4620-a42a-0c0866077d1e', product_id='lyft', name='Lyft', day=28, month=11, year=2018, hour=1, time='01:00:22.198000'),\n",
       " Row(_c0=3, distance=0.44, cab_type='Lyft', destination='North Station', source='Haymarket Square', price=26.0, surge_multiplier=1.0, id='c2d88af2-d278-4bfd-a8d0-29ca77cc5512', product_id='lyft_luxsuv', name='Lux Black XL', day=30, month=11, year=2018, hour=4, time='04:53:02.749000'),\n",
       " Row(_c0=4, distance=0.44, cab_type='Lyft', destination='North Station', source='Haymarket Square', price=9.0, surge_multiplier=1.0, id='e0126e1f-8ca9-4f2e-82b3-50505a09db9a', product_id='lyft_plus', name='Lyft XL', day=29, month=11, year=2018, hour=3, time='03:49:20.223000')]"
      ]
     },
     "execution_count": 12,
     "metadata": {},
     "output_type": "execute_result"
    }
   ],
   "source": [
    "CabsDF.head(5)"
   ]
  },
  {
   "cell_type": "markdown",
   "metadata": {},
   "source": [
    "### C. Data entities, metrics and dimensions\n",
    "\n",
    "I've identified the following elements:\n",
    "\n",
    "* **Entities:** Cab_type, destination, source, id, product_id, name\n",
    "* **Metrics:** Distance, price\n",
    "* **Dimensions:** surge_multiplier, destination, source, product_id, name, day, month, year, time\n",
    "\n",
    "### D. Column categorization\n",
    "\n",
    "The following could be a potential column categorization:\n",
    "\n",
    "* **Time related columns:** *Year*, *Month*, *day*, *time*\n",
    "* **Related columns profiling:** *Destination*, *Source*, *name* and *distance*\n",
    "* **Other columns for basic profiling:** *Surge_multiplier*, *product_id* and *Cab_Type* \n",
    "\n",
    "## 4. Columns groups basic profiling to better understand our data set\n",
    "### A. Time related columns basic profiling"
   ]
  },
  {
   "cell_type": "code",
   "execution_count": 17,
   "metadata": {},
   "outputs": [
    {
     "name": "stdout",
     "output_type": "stream",
     "text": [
      "Summary of columns Year, Month, Day and Hour:\n"
     ]
    },
    {
     "name": "stderr",
     "output_type": "stream",
     "text": [
      "                                                                                \r"
     ]
    },
    {
     "name": "stdout",
     "output_type": "stream",
     "text": [
      "+-------+------------------+------------------+--------------------+-----------------+\n",
      "|summary|               day|             month|                year|             hour|\n",
      "+-------+------------------+------------------+--------------------+-----------------+\n",
      "|  count|            693071|            693071|              693071|           693071|\n",
      "|   mean|17.794364502338144| 11.58668448109934|              2018.0|11.61913714467926|\n",
      "| stddev| 9.982286013944805|0.4924288279625382|1.135905899981944...|6.948114156101857|\n",
      "|    min|                 1|                11|                2018|                0|\n",
      "|    25%|                13|                11|                2018|                6|\n",
      "|    50%|                17|                12|                2018|               12|\n",
      "|    75%|                28|                12|                2018|               18|\n",
      "|    max|                30|                12|                2018|               23|\n",
      "+-------+------------------+------------------+--------------------+-----------------+\n",
      "\n",
      "Checking for nulls on columns Year, Month, Day and Time:\n",
      "+---+-----+----+----+\n",
      "|day|month|year|hour|\n",
      "+---+-----+----+----+\n",
      "|  0|    0|   0|   0|\n",
      "+---+-----+----+----+\n",
      "\n",
      "Checking amount of distinct values in columns Year, Month, Day and Hour:\n"
     ]
    },
    {
     "name": "stderr",
     "output_type": "stream",
     "text": [
      "                                                                                \r"
     ]
    },
    {
     "name": "stdout",
     "output_type": "stream",
     "text": [
      "+---+-----+----+----+\n",
      "|day|month|year|hour|\n",
      "+---+-----+----+----+\n",
      "| 17|    2|   1|  24|\n",
      "+---+-----+----+----+\n",
      "\n",
      "Most and least frequent occurrences for Day and Hour:\n"
     ]
    },
    {
     "name": "stderr",
     "output_type": "stream",
     "text": [
      "                                                                                \r"
     ]
    },
    {
     "data": {
      "text/markdown": [
       "\n",
       "| leastFreqDay | mostFreqDay | leastFreqHour | mostFreqHour |\n",
       "|----|----|----|----|\n",
       "| 9 (1674 occurrences) | 27 (76121 occurrences) | 8 (24275 occurrences) | 0 (32413 occurrences) |\n"
      ],
      "text/plain": [
       "<IPython.core.display.Markdown object>"
      ]
     },
     "metadata": {},
     "output_type": "display_data"
    }
   ],
   "source": [
    "from IPython.display import display, Markdown\n",
    "from pyspark.sql.functions import when, count, col, countDistinct, desc, first, lit\n",
    "\n",
    "\n",
    "print (\"Summary of columns Year, Month, Day and Hour:\")\n",
    "CabsDF.select(\"day\",\"month\",\"year\",\"hour\").summary().show()\n",
    "\n",
    "print(\"Checking for nulls on columns Year, Month, Day and Time:\")\n",
    "CabsDF.select([count(when(col(c).isNull(), c)).alias(c) for c in [\"day\",\"month\",\"year\",\"hour\"]]).show()\n",
    "\n",
    "print(\"Checking amount of distinct values in columns Year, Month, Day and Hour:\")\n",
    "CabsDF.select([countDistinct(c).alias(c) for c in [\"day\",\"month\",\"year\",\"hour\"]]).show()\n",
    "\n",
    "print (\"Most and least frequent occurrences for Day and Hour:\")\n",
    "dayDF = CabsDF.groupBy(\"day\").agg(count(lit(1)).alias(\"Total\"))\n",
    "hourDF = CabsDF.groupBy(\"hour\").agg(count(lit(1)).alias(\"Total\"))\n",
    "\n",
    "leastFreqDay    = dayDF.orderBy(col(\"Total\").asc()).first()\n",
    "mostFreqDay    = dayDF.orderBy(col(\"Total\").desc()).first()\n",
    "leastFreqHour     = hourDF.orderBy(col(\"Total\").asc()).first()\n",
    "mostFreqHour     = hourDF.orderBy(col(\"Total\").desc()).first()\n",
    "\n",
    "display(Markdown(\"\"\"\n",
    "| %s | %s | %s | %s |\n",
    "|----|----|----|----|\n",
    "| %s | %s | %s | %s |\n",
    "\"\"\" % (\"leastFreqDay\", \"mostFreqDay\", \"leastFreqHour\", \"mostFreqHour\", \\\n",
    "       \"%d (%d occurrences)\" % (leastFreqDay[\"day\"], leastFreqDay[\"Total\"]), \\\n",
    "       \"%d (%d occurrences)\" % (mostFreqDay[\"day\"], mostFreqDay[\"Total\"]), \\\n",
    "       \"%d (%d occurrences)\" % (leastFreqHour[\"hour\"], leastFreqHour[\"Total\"]), \\\n",
    "       \"%d (%d occurrences)\" % (mostFreqHour[\"hour\"], mostFreqHour[\"Total\"]))))"
   ]
  },
  {
   "cell_type": "markdown",
   "metadata": {},
   "source": [
    "### B. Related columns for basic profiling"
   ]
  },
  {
   "cell_type": "code",
   "execution_count": 24,
   "metadata": {},
   "outputs": [
    {
     "name": "stdout",
     "output_type": "stream",
     "text": [
      "Summary of columns destination, source, name and distance:\n"
     ]
    },
    {
     "name": "stderr",
     "output_type": "stream",
     "text": [
      "                                                                                \r"
     ]
    },
    {
     "name": "stdout",
     "output_type": "stream",
     "text": [
      "+-------+-----------+--------+------+------------------+\n",
      "|summary|destination|  source|  name|          distance|\n",
      "+-------+-----------+--------+------+------------------+\n",
      "|  count|     693071|  693071|693071|            693071|\n",
      "|   mean|       null|    null|  null|2.1894297553925237|\n",
      "| stddev|       null|    null|  null|1.1389369868597294|\n",
      "|    min|   Back Bay|Back Bay| Black|              0.02|\n",
      "|    25%|       null|    null|  null|              1.28|\n",
      "|    50%|       null|    null|  null|              2.16|\n",
      "|    75%|       null|    null|  null|              2.92|\n",
      "|    max|   West End|West End|   WAV|              7.86|\n",
      "+-------+-----------+--------+------+------------------+\n",
      "\n",
      "Checking for nulls on columns destination, source, name and distance:\n",
      "+-----------+------+----+--------+\n",
      "|destination|source|name|distance|\n",
      "+-----------+------+----+--------+\n",
      "|          0|     0|   0|       0|\n",
      "+-----------+------+----+--------+\n",
      "\n",
      "Checking amount of distinct values in columns destination, source, name and distance:\n",
      "+-----------+------+----+--------+\n",
      "|destination|source|name|distance|\n",
      "+-----------+------+----+--------+\n",
      "|         12|    12|  13|     549|\n",
      "+-----------+------+----+--------+\n",
      "\n",
      "Most and least frequent occurrences for destination, source, name and distance:\n"
     ]
    },
    {
     "data": {
      "text/markdown": [
       "\n",
       "| leastFreqDestination | mostFreqDestination | leastFreqSource | mostFreqSource |\n",
       "|----|----|----|----|\n",
       "| North Station (57119 occurrences) | Financial District (58851 occurrences) | North Station (57118 occurrences) | Financial District (58857 occurrences) |\n"
      ],
      "text/plain": [
       "<IPython.core.display.Markdown object>"
      ]
     },
     "metadata": {},
     "output_type": "display_data"
    },
    {
     "data": {
      "text/markdown": [
       "\n",
       "| leastFreqName | mostFreqName | leastFreqDistance | mostFreqDistance |\n",
       "|----|----|----|----|\n",
       "| Shared (51233 occurrences) | Black SUV (55096 occurrences) | 5.95 (6 occurrences) | 2.66 (9174 occurrences) |\n"
      ],
      "text/plain": [
       "<IPython.core.display.Markdown object>"
      ]
     },
     "metadata": {},
     "output_type": "display_data"
    }
   ],
   "source": [
    "from IPython.display import display, Markdown\n",
    "from pyspark.sql.functions import when, count, col, countDistinct, desc, first\n",
    "\n",
    "print (\"Summary of columns destination, source, name and distance:\")\n",
    "CabsDF.select(\"destination\", \"source\", \"name\", \"distance\").summary().show()\n",
    "\n",
    "print(\"Checking for nulls on columns destination, source, name and distance:\")\n",
    "CabsDF.select([count(when(col(c).isNull(), c)).alias(c) for c in [\"destination\", \"source\", \"name\", \"distance\"]]).show()\n",
    "\n",
    "print(\"Checking amount of distinct values in columns destination, source, name and distance:\")\n",
    "CabsDF.select([countDistinct(c).alias(c) for c in [\"destination\", \"source\", \"name\", \"distance\"]]).show()\n",
    "\n",
    "print (\"Most and least frequent occurrences for destination, source, name and distance:\")\n",
    "DestinationDF = CabsDF.groupBy(\"destination\").agg(count(lit(1)).alias(\"Total\"))\n",
    "SourceDF   = CabsDF.groupBy(\"source\").agg(count(lit(1)).alias(\"Total\"))\n",
    "NameDF    = CabsDF.groupBy(\"name\").agg(count(lit(1)).alias(\"Total\"))\n",
    "DistanceDF      = CabsDF.groupBy(\"distance\").agg(count(lit(1)).alias(\"Total\"))\n",
    "\n",
    "leastFreqDestination   = DestinationDF.orderBy(col(\"Total\").asc()).first()\n",
    "mostFreqDestination     = DestinationDF.orderBy(col(\"Total\").desc()).first()\n",
    "leastFreqSource      = SourceDF.orderBy(col(\"Total\").asc()).first()\n",
    "mostFreqSource       = SourceDF.orderBy(col(\"Total\").desc()).first()\n",
    "leastFreqName      = NameDF.orderBy(col(\"Total\").asc()).first()\n",
    "mostFreqName        = NameDF.orderBy(col(\"Total\").desc()).first()\n",
    "leastFreqDistance         = DistanceDF.orderBy(col(\"Total\").asc()).first()\n",
    "mostFreqDistance          = DistanceDF.orderBy(col(\"Total\").desc()).first()\n",
    "\n",
    "display(Markdown(\"\"\"\n",
    "| %s | %s | %s | %s |\n",
    "|----|----|----|----|\n",
    "| %s | %s | %s | %s |\n",
    "\"\"\" % (\"leastFreqDestination\", \"mostFreqDestination\", \"leastFreqSource\", \"mostFreqSource\", \\\n",
    "       \"%s (%d occurrences)\" % (leastFreqDestination[\"destination\"], leastFreqDestination[\"Total\"]), \\\n",
    "       \"%s (%d occurrences)\" % (mostFreqDestination[\"destination\"], mostFreqDestination[\"Total\"]), \\\n",
    "       \"%s (%d occurrences)\" % (leastFreqSource[\"source\"], leastFreqSource[\"Total\"]), \\\n",
    "       \"%s (%d occurrences)\" % (mostFreqSource[\"source\"], mostFreqSource[\"Total\"]))))\n",
    "display(Markdown(\"\"\"\n",
    "| %s | %s | %s | %s |\n",
    "|----|----|----|----|\n",
    "| %s | %s | %s | %s |\n",
    "\"\"\" % (\"leastFreqName\", \"mostFreqName\", \"leastFreqDistance\", \"mostFreqDistance\", \\\n",
    "       \"%s (%d occurrences)\" % (leastFreqName[\"name\"], leastFreqName[\"Total\"]), \\\n",
    "       \"%s (%d occurrences)\" % (mostFreqName[\"name\"], mostFreqName[\"Total\"]), \\\n",
    "       \"%s (%d occurrences)\" % (leastFreqDistance[\"distance\"], leastFreqDistance[\"Total\"]), \\\n",
    "       \"%s (%d occurrences)\" % (mostFreqDistance[\"distance\"], mostFreqDistance[\"Total\"]))))"
   ]
  },
  {
   "cell_type": "markdown",
   "metadata": {},
   "source": [
    "### C. Other columns for basic profiling"
   ]
  },
  {
   "cell_type": "code",
   "execution_count": 25,
   "metadata": {
    "scrolled": false
   },
   "outputs": [
    {
     "name": "stdout",
     "output_type": "stream",
     "text": [
      "Summary of columns Surge_multiplier, Price, Product_id and Cab_type:\n"
     ]
    },
    {
     "name": "stderr",
     "output_type": "stream",
     "text": [
      "                                                                                \r"
     ]
    },
    {
     "name": "stdout",
     "output_type": "stream",
     "text": [
      "+-------+-------------------+-----------------+--------------------+--------+\n",
      "|summary|   surge_multiplier|            price|          product_id|cab_type|\n",
      "+-------+-------------------+-----------------+--------------------+--------+\n",
      "|  count|             693071|           637976|              693071|  693071|\n",
      "|   mean| 1.0138697911180816|16.54512549061407|                null|    null|\n",
      "| stddev|0.09164126209924166|9.324358581411659|                null|    null|\n",
      "|    min|                1.0|              2.5|55c66225-fbe7-4fd...|    Lyft|\n",
      "|    25%|                1.0|              9.0|                null|    null|\n",
      "|    50%|                1.0|             13.5|                null|    null|\n",
      "|    75%|                1.0|             22.5|                null|    null|\n",
      "|    max|                3.0|             97.5|        lyft_premier|    Uber|\n",
      "+-------+-------------------+-----------------+--------------------+--------+\n",
      "\n",
      "Checking for nulls on columns Surge_multiplier, Price, Product_id and Cab_type:\n",
      "+----------------+-----+----------+--------+\n",
      "|surge_multiplier|price|product_id|cab_type|\n",
      "+----------------+-----+----------+--------+\n",
      "|               0|55095|         0|       0|\n",
      "+----------------+-----+----------+--------+\n",
      "\n",
      "Checking amount of distinct values in columns Surge_multiplier, Price, Product_id and Cab_type:\n",
      "+----------------+-----+----------+--------+\n",
      "|surge_multiplier|price|product_id|cab_type|\n",
      "+----------------+-----+----------+--------+\n",
      "|               7|  147|        13|       2|\n",
      "+----------------+-----+----------+--------+\n",
      "\n"
     ]
    }
   ],
   "source": [
    "from IPython.display import display, Markdown\n",
    "from pyspark.sql.functions import when, count, col, countDistinct, desc, first\n",
    "\n",
    "print (\"Summary of columns Surge_multiplier, Price, Product_id and Cab_type:\")\n",
    "CabsDF.select(\"surge_multiplier\", \"price\", \"product_id\", \"cab_type\").summary().show()\n",
    "\n",
    "print(\"Checking for nulls on columns Surge_multiplier, Price, Product_id and Cab_type:\")\n",
    "CabsDF.select([count(when(col(c).isNull(), c)).alias(c) for c in [\"surge_multiplier\", \"price\", \"product_id\", \"cab_type\"]]).show()\n",
    "\n",
    "print(\"Checking amount of distinct values in columns Surge_multiplier, Price, Product_id and Cab_type:\")\n",
    "CabsDF.select([countDistinct(c).alias(c) for c in [\"surge_multiplier\", \"price\", \"product_id\", \"cab_type\"]]).show()\n"
   ]
  },
  {
   "cell_type": "markdown",
   "metadata": {},
   "source": [
    "## 5. Answer some business questions \n",
    "\n",
    "### A. Key points to understand and answer to"
   ]
  },
  {
   "cell_type": "code",
   "execution_count": 155,
   "metadata": {
    "scrolled": false
   },
   "outputs": [
    {
     "name": "stderr",
     "output_type": "stream",
     "text": [
      "[Stage 588:==================================================>  (190 + 2) / 200]\r"
     ]
    },
    {
     "name": "stdout",
     "output_type": "stream",
     "text": [
      "+------------+--------+------------+\n",
      "|Cab Category|NumRides|RoundedRatio|\n",
      "+------------+--------+------------+\n",
      "|   Black SUV|   55096|        7.95|\n",
      "|      UberXL|   55096|        7.95|\n",
      "|         WAV|   55096|        7.95|\n",
      "|        Taxi|   55095|        7.95|\n",
      "|       Black|   55095|        7.95|\n",
      "|       UberX|   55094|        7.95|\n",
      "|    UberPool|   55091|        7.95|\n",
      "|         Lux|   51235|        7.39|\n",
      "|     Lyft XL|   51235|        7.39|\n",
      "|Lux Black XL|   51235|        7.39|\n",
      "|        Lyft|   51235|        7.39|\n",
      "|   Lux Black|   51235|        7.39|\n",
      "|      Shared|   51233|        7.39|\n",
      "+------------+--------+------------+\n",
      "\n"
     ]
    },
    {
     "name": "stderr",
     "output_type": "stream",
     "text": [
      "                                                                                \r"
     ]
    }
   ],
   "source": [
    "from pyspark.sql.functions import count, round\n",
    "\n",
    "totalCabs = CabsDF.count()\n",
    "nameCategorizationDF = CabsDF\\\n",
    "   .where(col(\"name\")!=\"NA\")\\\n",
    "   .withColumn(\"Cab Category\", when(col(\"name\")==\"Black\",\"Black\")\\\n",
    "                               .when((col(\"name\")==\"Black SUV\"),\"Black SUV\")\\\n",
    "                               .when((col(\"name\")==\"Lux\"),\"Lux\")\\\n",
    "                               .when((col(\"name\")==\"Lux Black\"),\"Lux Black\")\\\n",
    "                               .when((col(\"name\")==\"Lux Black XL\"),\"Lux Black XL\")\\\n",
    "                               .when((col(\"name\")==\"Lyft\"),\"Lyft\")\\\n",
    "                               .when((col(\"name\")==\"Lyft XL\"),\"Lyft XL\")\\\n",
    "                               .when((col(\"name\")==\"Shared\"),\"Shared\")\\\n",
    "                               .when((col(\"name\")==\"UberPool\"),\"UberPool\")\\\n",
    "                               .when((col(\"name\")==\"UberX\"),\"UberX\")\\\n",
    "                               .when((col(\"name\")==\"UberXL\"),\"UberXL\")\\\n",
    "                               .when((col(\"name\")==\"WAV\"),\"WAV\")\\\n",
    "                               .when((col(\"name\")==\"Taxi\"),\"Taxi\"))\n",
    "\n",
    "nameCategorizationDF.cache() # optimization to make the processing faster\n",
    "nameCategorizationDF.where(col(\"name\")!=\"NA\")\\\n",
    "                     .select(\"Cab Category\", \"name\")\\\n",
    "                     .groupBy(\"Cab Category\")\\\n",
    "                     .agg(count(\"Cab Category\").alias(\"NumRides\"), \\\n",
    "                          (count(\"Cab Category\")/totalCabs*100).alias(\"Ratio\"))\\\n",
    "                     .orderBy(\"NumRides\", ascending=False)\\\n",
    "                     .select(\"Cab Category\",\"NumRides\",round(\"Ratio\",2).alias(\"RoundedRatio\")).show()"
   ]
  },
  {
   "cell_type": "code",
   "execution_count": 57,
   "metadata": {},
   "outputs": [
    {
     "name": "stderr",
     "output_type": "stream",
     "text": [
      "[Stage 232:===============================================>     (181 + 2) / 200]\r"
     ]
    },
    {
     "name": "stdout",
     "output_type": "stream",
     "text": [
      "+-----------+--------+------------+\n",
      "|Cab Company|NumRides|RoundedRatio|\n",
      "+-----------+--------+------------+\n",
      "|       Uber|  385663|       55.65|\n",
      "|       Lyft|  307408|       44.35|\n",
      "+-----------+--------+------------+\n",
      "\n"
     ]
    },
    {
     "name": "stderr",
     "output_type": "stream",
     "text": [
      "                                                                                \r"
     ]
    }
   ],
   "source": [
    "totalCabs = CabsDF.count()\n",
    "CompaniesCategorizationDF = CabsDF\\\n",
    "   .where(col(\"cab_type\")!=\"NA\")\\\n",
    "   .withColumn(\"Cab Company\", when(col(\"cab_type\")==\"Uber\",\"Uber\")\\\n",
    "                               .when((col(\"cab_type\")==\"Lyft\"),\"Lyft\"))\n",
    "                \n",
    "CompaniesCategorizationDF.cache() # optimization to make the processing faster\n",
    "CompaniesCategorizationDF.where(col(\"cab_type\")!=\"NA\")\\\n",
    "                     .select(\"Cab Company\", \"name\")\\\n",
    "                     .groupBy(\"Cab Company\")\\\n",
    "                     .agg(count(\"Cab Company\").alias(\"NumRides\"), \\\n",
    "                          (count(\"Cab Company\")/totalCabs*100).alias(\"Ratio\"))\\\n",
    "                     .orderBy(\"NumRides\", ascending=False)\\\n",
    "                     .select(\"Cab Company\",\"NumRides\",round(\"Ratio\",2).alias(\"RoundedRatio\")).show()"
   ]
  },
  {
   "cell_type": "code",
   "execution_count": 64,
   "metadata": {},
   "outputs": [
    {
     "name": "stderr",
     "output_type": "stream",
     "text": [
      "[Stage 246:==============================================>      (175 + 2) / 200]\r"
     ]
    },
    {
     "name": "stdout",
     "output_type": "stream",
     "text": [
      "+--------------------+--------+------------+\n",
      "|          Multiplier|NumRides|RoundedRatio|\n",
      "+--------------------+--------+------------+\n",
      "|       No Multiplier|  672096|       96.97|\n",
      "|Greater than 1 or...|   20809|         3.0|\n",
      "|Greater than 2 or...|     166|        0.02|\n",
      "+--------------------+--------+------------+\n",
      "\n"
     ]
    },
    {
     "name": "stderr",
     "output_type": "stream",
     "text": [
      "                                                                                \r"
     ]
    }
   ],
   "source": [
    "totalCabs = CabsDF.count()\n",
    "MultiplierCategorizationDF = CabsDF\\\n",
    "   .where(col(\"surge_multiplier\")!=0)\\\n",
    "   .withColumn(\"Multiplier\", when(col(\"surge_multiplier\")==1,\"No Multiplier\")\\\n",
    "                             .when((col(\"surge_multiplier\")>1)&(col(\"surge_multiplier\")<=2),\"Greater than 1 or equal to 2\")\\\n",
    "                             .when((col(\"surge_multiplier\")>2)&(col(\"surge_multiplier\")<=3),\"Greater than 2 or equal to 3\"))\n",
    "\n",
    "MultiplierCategorizationDF.cache() # optimization to make the processing faster\n",
    "MultiplierCategorizationDF.where(col(\"surge_multiplier\")!=0)\\\n",
    "                     .select(\"Multiplier\", \"surge_multiplier\")\\\n",
    "                     .groupBy(\"Multiplier\")\\\n",
    "                     .agg(count(\"Multiplier\").alias(\"NumRides\"), \\\n",
    "                          (count(\"Multiplier\")/totalCabs*100).alias(\"Ratio\"))\\\n",
    "                     .orderBy(\"NumRides\", ascending=False)\\\n",
    "                     .select(\"Multiplier\",\"NumRides\",round(\"Ratio\",2).alias(\"RoundedRatio\")).show()"
   ]
  },
  {
   "cell_type": "code",
   "execution_count": 68,
   "metadata": {},
   "outputs": [
    {
     "name": "stderr",
     "output_type": "stream",
     "text": [
      "[Stage 254:====================================================>(198 + 2) / 200]\r"
     ]
    },
    {
     "name": "stdout",
     "output_type": "stream",
     "text": [
      "+---------------+--------+------------+\n",
      "| Distance Range|NumRides|RoundedRatio|\n",
      "+---------------+--------+------------+\n",
      "| Short Distance|  325634|       46.98|\n",
      "|Medium Distance|  318071|       45.89|\n",
      "|  Long Distance|   49366|        7.12|\n",
      "+---------------+--------+------------+\n",
      "\n"
     ]
    },
    {
     "name": "stderr",
     "output_type": "stream",
     "text": [
      "                                                                                \r"
     ]
    }
   ],
   "source": [
    "totalCabs = CabsDF.count()\n",
    "DistanceCategorizationDF = CabsDF\\\n",
    "   .where(col(\"distance\")!=0)\\\n",
    "   .withColumn(\"Distance Range\", when((col(\"distance\")>=0)&(col(\"distance\")<=2),\"Short Distance\")\\\n",
    "                             .when((col(\"distance\")>2)&(col(\"distance\")<=4),\"Medium Distance\")\\\n",
    "                             .when((col(\"distance\")>4),\"Long Distance\"))\n",
    "\n",
    "DistanceCategorizationDF.cache() # optimization to make the processing faster\n",
    "DistanceCategorizationDF.where(col(\"distance\")!=0)\\\n",
    "                     .select(\"Distance Range\", \"distance\")\\\n",
    "                     .groupBy(\"Distance Range\")\\\n",
    "                     .agg(count(\"Distance Range\").alias(\"NumRides\"), \\\n",
    "                          (count(\"Distance Range\")/totalCabs*100).alias(\"Ratio\"))\\\n",
    "                     .orderBy(\"NumRides\", ascending=False)\\\n",
    "                     .select(\"Distance Range\",\"NumRides\",round(\"Ratio\",2).alias(\"RoundedRatio\")).show()"
   ]
  },
  {
   "cell_type": "code",
   "execution_count": 134,
   "metadata": {},
   "outputs": [
    {
     "name": "stderr",
     "output_type": "stream",
     "text": [
      "[Stage 394:===========================================>         (166 + 2) / 200]\r"
     ]
    },
    {
     "name": "stdout",
     "output_type": "stream",
     "text": [
      "+------------+--------+------------+\n",
      "| Price Range|NumRides|RoundedRatio|\n",
      "+------------+--------+------------+\n",
      "|   Low Price|  581170|       83.85|\n",
      "|Medium Price|   56216|        8.11|\n",
      "|  High Price|     590|        0.09|\n",
      "+------------+--------+------------+\n",
      "\n"
     ]
    },
    {
     "name": "stderr",
     "output_type": "stream",
     "text": [
      "                                                                                \r"
     ]
    }
   ],
   "source": [
    "totalCabs = CabsDF.count()\n",
    "PriceCategorizationDF = CabsDF\\\n",
    "   .where(col(\"distance\")!=0)\\\n",
    "   .withColumn(\"Price Range\", when((col(\"price\")>0)&(col(\"price\")<=30),\"Low Price\")\\\n",
    "                             .when((col(\"price\")>30)&(col(\"price\")<=60),\"Medium Price\")\\\n",
    "                             .when((col(\"price\")>60)&(col(\"price\")<=100),\"High Price\"))\n",
    "\n",
    "PriceCategorizationDF.cache() # optimization to make the processing faster\n",
    "PriceCategorizationDF.where(col(\"price\")!=0)\\\n",
    "                     .select(\"Price Range\", \"price\")\\\n",
    "                     .groupBy(\"Price Range\")\\\n",
    "                     .agg(count(\"Price Range\").alias(\"NumRides\"), \\\n",
    "                          (count(\"Price Range\")/totalCabs*100).alias(\"Ratio\"))\\\n",
    "                     .orderBy(\"NumRides\", ascending=False)\\\n",
    "                     .select(\"Price Range\",\"NumRides\",round(\"Ratio\",2).alias(\"RoundedRatio\")).show()"
   ]
  },
  {
   "cell_type": "markdown",
   "metadata": {},
   "source": [
    "### B. Ratios of Analysis"
   ]
  },
  {
   "cell_type": "code",
   "execution_count": 153,
   "metadata": {},
   "outputs": [
    {
     "data": {
      "text/markdown": [
       "**Cab Preference according to Origin:**"
      ],
      "text/plain": [
       "<IPython.core.display.Markdown object>"
      ]
     },
     "metadata": {},
     "output_type": "display_data"
    },
    {
     "name": "stdout",
     "output_type": "stream",
     "text": [
      "+--------------------+------------+-------------+----------+--------------+\n",
      "|              source|Cab Category|NumberofRides|TotalRides|Cab Preference|\n",
      "+--------------------+------------+-------------+----------+--------------+\n",
      "|    Theatre District|       Black|         4612|     57813|          7.98|\n",
      "|    Theatre District|       UberX|         4612|     57813|          7.98|\n",
      "|    Theatre District|   Black SUV|         4612|     57813|          7.98|\n",
      "|    Theatre District|      UberXL|         4612|     57813|          7.98|\n",
      "|    Theatre District|        Taxi|         4612|     57813|          7.98|\n",
      "|    Theatre District|         WAV|         4612|     57813|          7.98|\n",
      "|    Theatre District|    UberPool|         4611|     57813|          7.98|\n",
      "|            West End|    UberPool|         4582|     57562|          7.96|\n",
      "|            West End|   Black SUV|         4582|     57562|          7.96|\n",
      "|            West End|         WAV|         4582|     57562|          7.96|\n",
      "|            West End|      UberXL|         4582|     57562|          7.96|\n",
      "|            West End|       Black|         4582|     57562|          7.96|\n",
      "|            West End|        Taxi|         4582|     57562|          7.96|\n",
      "|            West End|       UberX|         4582|     57562|          7.96|\n",
      "|Northeastern Univ...|    UberPool|         4591|     57756|          7.95|\n",
      "|Northeastern Univ...|      UberXL|         4592|     57756|          7.95|\n",
      "|Northeastern Univ...|       Black|         4592|     57756|          7.95|\n",
      "|Northeastern Univ...|   Black SUV|         4592|     57756|          7.95|\n",
      "|Northeastern Univ...|       UberX|         4591|     57756|          7.95|\n",
      "|Northeastern Univ...|        Taxi|         4592|     57756|          7.95|\n",
      "+--------------------+------------+-------------+----------+--------------+\n",
      "\n"
     ]
    }
   ],
   "source": [
    "\n",
    "totalCabsOriginDF = \\\n",
    "   CabsDF.groupBy(\"source\")\\\n",
    "            .agg(count(\"source\").alias(\"TotalRides\"))\n",
    "nameCategorizationOriginDF = \\\n",
    "  nameCategorizationDF.where((col(\"Cab Category\")!='NA'))\\\n",
    "                       .withColumn(\"FinalDestination\", col(\"destination\"))\\\n",
    "                       .select(\"Cab Category\", \"FinalDestination\",\"source\")\\\n",
    "                       .groupBy(\"source\", \"Cab Category\")\\\n",
    "                       .agg(count(\"FinalDestination\").alias(\"NumberofRides\"))\n",
    "\n",
    "combinedDF=\\\n",
    "  nameCategorizationOriginDF\\\n",
    "     .join(totalCabsOriginDF, \"source\")\\\n",
    "     .withColumn(\"Cab Preference\", round(col(\"NumberofRides\")/col(\"TotalRides\")*100,2))\\\n",
    "     .orderBy(col(\"Cab Preference\").desc())\n",
    "combinedDF.cache() # optimization to make the processing faster\n",
    "\n",
    "display(Markdown(\"**Cab Preference according to Origin:**\"))\n",
    "combinedDF.limit(20).show()"
   ]
  },
  {
   "cell_type": "code",
   "execution_count": 152,
   "metadata": {},
   "outputs": [
    {
     "data": {
      "text/markdown": [
       "**Distance Preference:**"
      ],
      "text/plain": [
       "<IPython.core.display.Markdown object>"
      ]
     },
     "metadata": {},
     "output_type": "display_data"
    },
    {
     "name": "stdout",
     "output_type": "stream",
     "text": [
      "+------------+---------------+-------------+----------+-------------------+\n",
      "|        name| Distance Range|NumberofRides|TotalRides|Distance Preference|\n",
      "+------------+---------------+-------------+----------+-------------------+\n",
      "|   Black SUV| Short Distance|        26205|     55096|              47.56|\n",
      "|        Taxi| Short Distance|        26204|     55095|              47.56|\n",
      "|       UberX| Short Distance|        26204|     55094|              47.56|\n",
      "|      UberXL| Short Distance|        26205|     55096|              47.56|\n",
      "|    UberPool| Short Distance|        26203|     55091|              47.56|\n",
      "|       Black| Short Distance|        26204|     55095|              47.56|\n",
      "|         WAV| Short Distance|        26205|     55096|              47.56|\n",
      "|         Lux|Medium Distance|        23910|     51235|              46.67|\n",
      "|     Lyft XL|Medium Distance|        23910|     51235|              46.67|\n",
      "|Lux Black XL|Medium Distance|        23910|     51235|              46.67|\n",
      "|        Lyft|Medium Distance|        23910|     51235|              46.67|\n",
      "|      Shared|Medium Distance|        23910|     51233|              46.67|\n",
      "|   Lux Black|Medium Distance|        23910|     51235|              46.67|\n",
      "|         Lux| Short Distance|        23701|     51235|              46.26|\n",
      "|     Lyft XL| Short Distance|        23701|     51235|              46.26|\n",
      "|Lux Black XL| Short Distance|        23701|     51235|              46.26|\n",
      "|        Lyft| Short Distance|        23701|     51235|              46.26|\n",
      "|      Shared| Short Distance|        23699|     51233|              46.26|\n",
      "|   Lux Black| Short Distance|        23701|     51235|              46.26|\n",
      "|   Black SUV|Medium Distance|        24945|     55096|              45.28|\n",
      "+------------+---------------+-------------+----------+-------------------+\n",
      "\n"
     ]
    }
   ],
   "source": [
    "totalCabsOriginDF = \\\n",
    "   CabsDF.groupBy(\"name\")\\\n",
    "            .agg(count(\"name\").alias(\"TotalRides\"))\n",
    "\n",
    "nameDistanceOriginDF = \\\n",
    "  DistanceCategorizationDF.where((col(\"Distance Range\")!='NA'))\\\n",
    "                          .withColumn(\"FinalDestination\", col(\"destination\"))\\\n",
    "                          .select(\"Distance Range\",\"FinalDestination\",\"name\")\\\n",
    "                          .groupBy(\"name\", \"Distance Range\")\\\n",
    "                          .agg(count(\"FinalDestination\").alias(\"NumberofRides\"))\n",
    "\n",
    "combinedDF=\\\n",
    " nameDistanceOriginDF\\\n",
    "     .join(totalCabsOriginDF, \"name\")\\\n",
    "     .withColumn(\"Distance Preference\", round(col(\"NumberofRides\")/col(\"TotalRides\")*100,2))\\\n",
    "     .orderBy(col(\"Distance Preference\").desc())\n",
    "combinedDF.cache() # optimization to make the processing faster\n",
    "\n",
    "display(Markdown(\"**Distance Preference:**\"))\n",
    "combinedDF.limit(20).show()\n"
   ]
  },
  {
   "cell_type": "code",
   "execution_count": 154,
   "metadata": {},
   "outputs": [
    {
     "data": {
      "text/markdown": [
       "**Price variation according to cab**:"
      ],
      "text/plain": [
       "<IPython.core.display.Markdown object>"
      ]
     },
     "metadata": {},
     "output_type": "display_data"
    },
    {
     "name": "stdout",
     "output_type": "stream",
     "text": [
      "+------------+------------+-------------+----------+----------------+\n",
      "|        name| Price Range|NumberofRides|TotalRides|Price Preference|\n",
      "+------------+------------+-------------+----------+----------------+\n",
      "|      Shared|   Low Price|        51233|     51233|           100.0|\n",
      "|    UberPool|   Low Price|        55089|     55091|           100.0|\n",
      "|        Lyft|   Low Price|        51223|     51235|           99.98|\n",
      "|       UberX|   Low Price|        55084|     55094|           99.98|\n",
      "|         WAV|   Low Price|        55086|     55096|           99.98|\n",
      "|     Lyft XL|   Low Price|        50827|     51235|            99.2|\n",
      "|      UberXL|   Low Price|        54423|     55096|           98.78|\n",
      "|         Lux|   Low Price|        50366|     51235|            98.3|\n",
      "|       Black|   Low Price|        52640|     55095|           95.54|\n",
      "|   Lux Black|   Low Price|        45869|     51235|           89.53|\n",
      "|   Black SUV|   Low Price|        32382|     55096|           58.77|\n",
      "|Lux Black XL|   Low Price|        26948|     51235|            52.6|\n",
      "|Lux Black XL|Medium Price|        23799|     51235|           46.45|\n",
      "|   Black SUV|Medium Price|        22695|     55096|           41.19|\n",
      "|   Lux Black|Medium Price|         5290|     51235|           10.32|\n",
      "|       Black|Medium Price|         2452|     55095|            4.45|\n",
      "|         Lux|Medium Price|          869|     51235|             1.7|\n",
      "|      UberXL|Medium Price|          671|     55096|            1.22|\n",
      "|Lux Black XL|  High Price|          488|     51235|            0.95|\n",
      "|     Lyft XL|Medium Price|          406|     51235|            0.79|\n",
      "|   Lux Black|  High Price|           76|     51235|            0.15|\n",
      "|   Black SUV|  High Price|           19|     55096|            0.03|\n",
      "|        Lyft|Medium Price|           12|     51235|            0.02|\n",
      "|       UberX|Medium Price|           10|     55094|            0.02|\n",
      "|         WAV|Medium Price|           10|     55096|            0.02|\n",
      "|       Black|  High Price|            3|     55095|            0.01|\n",
      "|     Lyft XL|  High Price|            2|     51235|             0.0|\n",
      "|      UberXL|  High Price|            2|     55096|             0.0|\n",
      "|    UberPool|Medium Price|            2|     55091|             0.0|\n",
      "+------------+------------+-------------+----------+----------------+\n",
      "\n"
     ]
    }
   ],
   "source": [
    "totalCabsOriginDF = \\\n",
    "   CabsDF.groupBy(\"name\")\\\n",
    "            .agg(count(\"name\").alias(\"TotalRides\"))\n",
    "\n",
    "namePriceOriginDF = \\\n",
    "  PriceCategorizationDF.where((col(\"Price Range\")!='NA'))\\\n",
    "                          .withColumn(\"FinalDestination\", col(\"destination\"))\\\n",
    "                          .select(\"Price Range\",\"FinalDestination\",\"name\")\\\n",
    "                          .groupBy(\"name\", \"Price Range\")\\\n",
    "                          .agg(count(\"FinalDestination\").alias(\"NumberofRides\"))\n",
    "\n",
    "combinedDF=\\\n",
    " namePriceOriginDF\\\n",
    "     .join(totalCabsOriginDF, \"name\")\\\n",
    "     .withColumn(\"Price Preference\", round(col(\"NumberofRides\")/col(\"TotalRides\")*100,2))\\\n",
    "     .orderBy(col(\"Price Preference\").desc())\n",
    "combinedDF.cache() # optimization to make the processing faster\n",
    "\n",
    "display(Markdown(\"**Price variation according to cab**:\"))\n",
    "combinedDF.show(30)"
   ]
  },
  {
   "cell_type": "code",
   "execution_count": null,
   "metadata": {},
   "outputs": [],
   "source": []
  }
 ],
 "metadata": {
  "kernelspec": {
   "display_name": "Python 3",
   "language": "python",
   "name": "python3"
  },
  "language_info": {
   "codemirror_mode": {
    "name": "ipython",
    "version": 3
   },
   "file_extension": ".py",
   "mimetype": "text/x-python",
   "name": "python",
   "nbconvert_exporter": "python",
   "pygments_lexer": "ipython3",
   "version": "3.8.5"
  }
 },
 "nbformat": 4,
 "nbformat_minor": 2
}

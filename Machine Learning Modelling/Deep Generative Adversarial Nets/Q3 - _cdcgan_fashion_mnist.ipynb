{
  "nbformat": 4,
  "nbformat_minor": 0,
  "metadata": {
    "accelerator": "GPU",
    "colab": {
      "name": "03_cdcgan_fashion_mnist_template-Asaf.ipynb",
      "provenance": [],
      "private_outputs": true,
      "collapsed_sections": []
    },
    "kernelspec": {
      "display_name": "Python 3",
      "name": "python3"
    },
    "language_info": {
      "codemirror_mode": {
        "name": "ipython",
        "version": 3
      },
      "file_extension": ".py",
      "mimetype": "text/x-python",
      "name": "python",
      "nbconvert_exporter": "python",
      "pygments_lexer": "ipython3",
      "version": "3.6.9"
    }
  },
  "cells": [
    {
      "cell_type": "markdown",
      "metadata": {
        "id": "_jQ1tEQCxwRx"
      },
      "source": [
        "##### Copyright 2019 The TensorFlow Authors."
      ]
    },
    {
      "cell_type": "markdown",
      "metadata": {
        "id": "rF2x3qooyBTI"
      },
      "source": [
        "# Deep Conditional Convolutional Generative Adversarial Network"
      ]
    },
    {
      "cell_type": "code",
      "metadata": {
        "id": "WZKbyU2-AiY-"
      },
      "source": [
        "import tensorflow as tf"
      ],
      "execution_count": null,
      "outputs": []
    },
    {
      "cell_type": "code",
      "metadata": {
        "id": "wx-zNbLqB4K8"
      },
      "source": [
        "tf.__version__"
      ],
      "execution_count": null,
      "outputs": []
    },
    {
      "cell_type": "code",
      "metadata": {
        "id": "YzTlj4YdCip_"
      },
      "source": [
        "# To generate GIFs\n",
        "!pip install -q imageio"
      ],
      "execution_count": null,
      "outputs": []
    },
    {
      "cell_type": "code",
      "metadata": {
        "id": "YfIk2es3hJEd"
      },
      "source": [
        "import glob\n",
        "import imageio\n",
        "import matplotlib.pyplot as plt\n",
        "import numpy as np\n",
        "import os\n",
        "import PIL\n",
        "from tensorflow.keras import layers\n",
        "from tensorflow.keras import Model\n",
        "import time\n",
        "from keras.datasets.fashion_mnist import load_data\n",
        "from tensorflow.keras.optimizers import Adam\n",
        "from keras.models import Model\n",
        "\n",
        "import tensorflow as tf\n",
        "\n",
        "from tensorflow.keras.datasets import fashion_mnist\n",
        "from tensorflow.keras.layers import (\n",
        "        Activation, BatchNormalization, Concatenate, Dense, Dropout, Multiply,\n",
        "        Embedding, Flatten, Input, Reshape, LeakyReLU, Conv2D, Conv2DTranspose) \n",
        "from tensorflow.keras.models import Model, Sequential\n",
        "from tensorflow.keras.optimizers import Adam\n",
        "from tensorflow.keras.utils import plot_model\n",
        "from IPython import display"
      ],
      "execution_count": null,
      "outputs": []
    },
    {
      "cell_type": "markdown",
      "metadata": {
        "id": "iYn4MdZnKCey"
      },
      "source": [
        "### Load and prepare the dataset\n",
        "\n",
        "You will use the MNIST dataset to train the generator and the discriminator. The generator will generate handwritten digits resembling the MNIST data."
      ]
    },
    {
      "cell_type": "code",
      "metadata": {
        "id": "HEOuzkKMfVw1"
      },
      "source": [
        "import tensorflow_datasets as tfds\n",
        "import tensorflow as tf"
      ],
      "execution_count": null,
      "outputs": []
    },
    {
      "cell_type": "code",
      "metadata": {
        "id": "ByAVg9xefRBu"
      },
      "source": [
        "tfds.list_builders()\n",
        "builder = tfds.builder(\"fashion_mnist\")\n",
        "builder.download_and_prepare()"
      ],
      "execution_count": null,
      "outputs": []
    },
    {
      "cell_type": "code",
      "metadata": {
        "id": "-rM8ISx8fjyT"
      },
      "source": [
        "print(builder.info)"
      ],
      "execution_count": null,
      "outputs": []
    },
    {
      "cell_type": "code",
      "metadata": {
        "id": "YHgP5k5vfqzC"
      },
      "source": [
        "(train_dataset_raw) = builder.as_dataset(split=\"train\", as_supervised=True)"
      ],
      "execution_count": null,
      "outputs": []
    },
    {
      "cell_type": "code",
      "metadata": {
        "id": "fpuMPiYKftEf"
      },
      "source": [
        "def format_example(image, label):\n",
        "  image = tf.cast(image, tf.float32)\n",
        "  # scale from [0,255] to [-1,1]\n",
        "  image = (image - 127.5) / 127.5\n",
        "  image = tf.image.resize(image, (28, 28))\n",
        "  return image, label"
      ],
      "execution_count": null,
      "outputs": []
    },
    {
      "cell_type": "code",
      "metadata": {
        "id": "vH1XurMHf0tp"
      },
      "source": [
        "train_dataset = train_dataset_raw.map(format_example)"
      ],
      "execution_count": null,
      "outputs": []
    },
    {
      "cell_type": "code",
      "metadata": {
        "id": "lybSn8kxJnXc"
      },
      "source": [
        "i = 0\n",
        "for image, label in train_dataset.take(49):\n",
        "  # define subplot\n",
        "  plt.subplot(7, 7, 1 + i)\n",
        "  # turn off axis\n",
        "  plt.axis('off')\n",
        "  # plot raw pixel data\n",
        "  image = (image + 1.0) / 2.0\n",
        "  plt.imshow(image[:,:,0], cmap='gray')\n",
        "  i = i + 1\n",
        "  print(label)\n",
        "plt.show()"
      ],
      "execution_count": null,
      "outputs": []
    },
    {
      "cell_type": "markdown",
      "metadata": {
        "id": "THY-sZMiQ4UV"
      },
      "source": [
        "## Create the models\n",
        "\n",
        "Both the generator and discriminator are defined using the [Keras Sequential API](https://www.tensorflow.org/guide/keras#sequential_model)."
      ]
    },
    {
      "cell_type": "markdown",
      "metadata": {
        "id": "-tEyxE-GMC48"
      },
      "source": [
        "### The Generator\n",
        "\n",
        "The generator uses `tf.keras.layers.Conv2DTranspose` (upsampling) layers to produce an image from a seed (random noise). Start with a `Dense` layer that takes this seed as input, then upsample several times until you reach the desired image size of 28x28x1. Notice the `tf.keras.layers.LeakyReLU` activation for each layer, except the output layer which uses tanh."
      ]
    },
    {
      "cell_type": "code",
      "metadata": {
        "id": "6bpTcDqoLWjY"
      },
      "source": [
        "\n",
        "# Generator CNN model\n",
        "def generator_model(n_class,z_dim=100):\n",
        "\n",
        "    model = Sequential()\n",
        "\n",
        "    model.add(Dense(256 * 7 * 7, input_dim=z_dim,))\n",
        "    model.add(Reshape((7, 7, 256)))\n",
        "\n",
        "    model.add(Conv2DTranspose(128, 3, 2, padding='same',))\n",
        "    model.add(LeakyReLU(alpha =0.01))\n",
        "\n",
        "    model.add(Conv2DTranspose(64, 3, 1, padding='same',))\n",
        "    model.add(LeakyReLU(alpha =0.01))\n",
        "    \n",
        "    model.add(Conv2DTranspose(32, 3, 1, padding='same',))\n",
        "    model.add(LeakyReLU(alpha =0.01))\n",
        "\n",
        "    model.add(Conv2DTranspose(1, 3, 2, padding='same',))\n",
        "    model.add(LeakyReLU(alpha =0.01))\n",
        "\n",
        "    return model\n",
        "\n",
        "# generator input \n",
        "def make_generator_model(n_class,z_dim=100):\n",
        "    # latent input\n",
        "    z = Input(shape=(z_dim, ))\n",
        "    # label input\n",
        "    label = Input(shape=(1, ), dtype='int32')\n",
        "    # convert label to embedding\n",
        "    label_embedding = Embedding(n_class, z_dim)(label)\n",
        "\n",
        "    label_embedding = Flatten()(label_embedding)\n",
        "    # dot product two inputs\n",
        "    joined_representation = Multiply()([z, label_embedding])\n",
        "\n",
        "    generator = generator_model(z_dim)\n",
        "\n",
        "    conditioned_img = generator(joined_representation)\n",
        "\n",
        "    model =  Model([z, label], conditioned_img)\n",
        "    # save model blueprint to image\n",
        "    plot_model(model,'generator.jpg',show_shapes=True,show_dtype=True)\n",
        "\n",
        "    return model\n"
      ],
      "execution_count": null,
      "outputs": []
    },
    {
      "cell_type": "markdown",
      "metadata": {
        "id": "GyWgG09LCSJl"
      },
      "source": [
        "Use the (as yet untrained) generator to create an image."
      ]
    },
    {
      "cell_type": "code",
      "metadata": {
        "id": "gl7jcC7TdPTG"
      },
      "source": [
        "n_classes = 10\n",
        "generator = make_generator_model(n_classes,100)\n",
        "tf.keras.utils.plot_model(generator, show_shapes=True, to_file='generator.png')"
      ],
      "execution_count": null,
      "outputs": []
    },
    {
      "cell_type": "code",
      "metadata": {
        "id": "JYkHkk3wWg3e"
      },
      "source": [
        "#generator.summary()\n",
        "noise = tf.random.normal([1, 100])\n",
        "from numpy.random import randint\n",
        "noisy_label = randint(0, n_classes, 1)\n",
        "generated_image = generator([noise, noisy_label], training=False)\n",
        "plt.imshow((generated_image[0, :, :, 0] + 1) / 2, cmap='gray')"
      ],
      "execution_count": null,
      "outputs": []
    },
    {
      "cell_type": "markdown",
      "metadata": {
        "id": "D0IKnaCtg6WE"
      },
      "source": [
        "### The Discriminator\n",
        "\n",
        "The discriminator is a CNN-based image classifier."
      ]
    },
    {
      "cell_type": "code",
      "metadata": {
        "id": "dw2tPLmk2pEP"
      },
      "source": [
        "# def make_discriminator_model(n_classes):\n",
        "#   # label input\n",
        "#   in_label = Input(shape=(1,))\n",
        "#   # embedding for categorical input\n",
        "#   li = Embedding(n_classes, 50)(in_label)\n",
        "#   # scale up to image dimensions with linear activation\n",
        "#   n_nodes = (28,28,1)[0] * (28,28,1)[1]\n",
        "#   li = Dense(n_nodes)(li)\n",
        "#   # reshape to additional channel\n",
        "#   li = Reshape(((28,28,1)[0], (28,28,1)[1], 1))(li)\n",
        "#   # image input\n",
        "#   in_image = Input(shape=(28,28,1))\n",
        "#   # concat label as a channel\n",
        "#   merge = Concatenate()([in_image, li])\n",
        "#   # downsample\n",
        "#   fe = Conv2D(128, (3,3), strides=(2,2), padding='same')(merge)\n",
        "#   fe = LeakyReLU(alpha=0.2)(fe)\n",
        "#   # downsample\n",
        "#   fe = Conv2D(128, (3,3), strides=(2,2), padding='same')(fe)\n",
        "#   fe = LeakyReLU(alpha=0.2)(fe)\n",
        "#   # flatten feature maps\n",
        "#   fe = Flatten()(fe)\n",
        "#   # dropout\n",
        "#   fe = Dropout(0.4)(fe)\n",
        "#   # output\n",
        "#   out_layer = Dense(1, activation='sigmoid')(fe)\n",
        "#   # define model\n",
        "#   model = Model([in_image, in_label], out_layer)\n",
        "#   return model  \n"
      ],
      "execution_count": null,
      "outputs": []
    },
    {
      "cell_type": "code",
      "source": [
        "# discriminator CNN model\n",
        "def discriminator_model(img_shape):\n",
        "\n",
        "    model = Sequential()\n",
        "\n",
        "    model.add(Conv2D(64,3,2,input_shape=(img_shape[0], img_shape[1], img_shape[2] + 1),))\n",
        "    model.add(LeakyReLU(alpha =0.01))\n",
        "\n",
        "    model.add(Conv2D(128,3,2,input_shape=img_shape,padding='same',))\n",
        "    model.add(LeakyReLU(alpha =0.001))\n",
        "\n",
        "    model.add(Conv2D(128,3,2,input_shape=img_shape,padding='same',))\n",
        "    model.add(LeakyReLU(alpha =0.001))\n",
        "    model.add(Dropout(0.3))\n",
        "\n",
        "    model.add(Flatten())\n",
        "    model.add(Dense(1, activation='sigmoid'))\n",
        "\n",
        "    return model\n",
        "\n",
        "\n",
        "def make_discriminator_model(n_class,img_shape):\n",
        "    # image input\n",
        "    img = Input(shape=img_shape)\n",
        "    # label input\n",
        "    label = Input(shape=(1, ), dtype='int32')\n",
        "\n",
        "    label_embedding = Embedding(n_class, np.prod(img_shape),input_length=1)(label)\n",
        "\n",
        "    label_embedding = Flatten()(label_embedding)\n",
        "\n",
        "    label_embedding = Reshape(img_shape)(label_embedding)\n",
        "    # concatenate the image and label\n",
        "    concatenated = Concatenate(axis=-1)([img, label_embedding])\n",
        "\n",
        "    discriminator = discriminator_model(img_shape)\n",
        "\n",
        "    classification = discriminator(concatenated)\n",
        "\n",
        "    model = Model([img, label], classification)\n",
        "\n",
        "    plot_model(model,'discriminator.jpg',show_shapes=True,show_dtype=True)\n",
        "\n",
        "    return model"
      ],
      "metadata": {
        "id": "TSoDVzcAvT38"
      },
      "execution_count": null,
      "outputs": []
    },
    {
      "cell_type": "code",
      "metadata": {
        "id": "5WViQF8DTtsM"
      },
      "source": [
        "n_classes = 10\n",
        "img_shape =(28,28,1)\n",
        "discriminator = make_discriminator_model(n_classes, img_shape)\n",
        "#tf.keras.utils.plot_model(discriminator, show_shapes=True, to_file='discriminator.png')"
      ],
      "execution_count": null,
      "outputs": []
    },
    {
      "cell_type": "markdown",
      "metadata": {
        "id": "QhPneagzCaQv"
      },
      "source": [
        "Use the (as yet untrained) discriminator to classify the generated images as real or fake. The model will be trained to output positive values for real images, and negative values for fake images."
      ]
    },
    {
      "cell_type": "code",
      "metadata": {
        "id": "gDkA05NE6QMs"
      },
      "source": [
        "#discriminator.summary()\n",
        "from numpy.random import randint\n",
        "label = randint(0, n_classes, 1)\n",
        "print(label)\n",
        "decision = discriminator([generated_image, label])\n",
        "print (decision)"
      ],
      "execution_count": null,
      "outputs": []
    },
    {
      "cell_type": "markdown",
      "metadata": {
        "id": "0FMYgY_mPfTi"
      },
      "source": [
        "## Define the loss and optimizers\n",
        "\n",
        "Define loss functions and optimizers for both models.\n"
      ]
    },
    {
      "cell_type": "code",
      "metadata": {
        "id": "psQfmXxYKU3X"
      },
      "source": [
        "# This method returns a helper function to compute cross entropy loss\n",
        "cross_entropy = tf.keras.losses.BinaryCrossentropy(from_logits=False)"
      ],
      "execution_count": null,
      "outputs": []
    },
    {
      "cell_type": "markdown",
      "metadata": {
        "id": "PKY_iPSPNWoj"
      },
      "source": [
        "### Discriminator loss\n",
        "\n",
        "This method quantifies how well the discriminator is able to distinguish real images from fakes. It compares the discriminator's predictions on real images to an array of 1s, and the discriminator's predictions on fake (generated) images to an array of 0s."
      ]
    },
    {
      "cell_type": "code",
      "metadata": {
        "id": "wkMNfBWlT-PV"
      },
      "source": [
        "def discriminator_loss(real_output, fake_output):\n",
        "    real_loss = cross_entropy(tf.ones_like(real_output), real_output)\n",
        "    fake_loss = cross_entropy(tf.zeros_like(fake_output), fake_output)\n",
        "    total_loss = real_loss + fake_loss\n",
        "    return total_loss"
      ],
      "execution_count": null,
      "outputs": []
    },
    {
      "cell_type": "markdown",
      "metadata": {
        "id": "Jd-3GCUEiKtv"
      },
      "source": [
        "### Generator loss\n",
        "The generator's loss quantifies how well it was able to trick the discriminator. Intuitively, if the generator is performing well, the discriminator will classify the fake images as real (or 1). Here, we will compare the discriminators decisions on the generated images to an array of 1s."
      ]
    },
    {
      "cell_type": "code",
      "metadata": {
        "id": "90BIcCKcDMxz"
      },
      "source": [
        "def generator_loss(fake_output):\n",
        "    return cross_entropy(tf.ones_like(fake_output), fake_output)"
      ],
      "execution_count": null,
      "outputs": []
    },
    {
      "cell_type": "markdown",
      "metadata": {
        "id": "MgIc7i0th_Iu"
      },
      "source": [
        "The discriminator and the generator optimizers are different since we will train two networks separately."
      ]
    },
    {
      "cell_type": "code",
      "metadata": {
        "id": "iWCn_PVdEJZ7"
      },
      "source": [
        "generator_optimizer = tf.keras.optimizers.Adam(learning_rate=0.002, beta_1=0.5)\n",
        "discriminator_optimizer = tf.keras.optimizers.Adam(learning_rate=0.002, beta_1=0.5)\n",
        "metricsAcc=tf.keras.metrics.BinaryAccuracy()"
      ],
      "execution_count": null,
      "outputs": []
    },
    {
      "cell_type": "markdown",
      "metadata": {
        "id": "mWtinsGDPJlV"
      },
      "source": [
        "### Save checkpoints\n",
        "This notebook also demonstrates how to save and restore models, which can be helpful in case a long running training task is interrupted."
      ]
    },
    {
      "cell_type": "code",
      "metadata": {
        "id": "CA1w-7s2POEy"
      },
      "source": [
        "checkpoint_dir = './training_checkpoints'\n",
        "checkpoint_prefix = os.path.join(checkpoint_dir, \"ckpt\")\n",
        "checkpoint = tf.train.Checkpoint(generator_optimizer=generator_optimizer,\n",
        "                                 discriminator_optimizer=discriminator_optimizer,\n",
        "                                 generator=generator,\n",
        "                                 discriminator=discriminator)"
      ],
      "execution_count": null,
      "outputs": []
    },
    {
      "cell_type": "markdown",
      "metadata": {
        "id": "Rw1fkAczTQYh"
      },
      "source": [
        "## Define the training loop\n"
      ]
    },
    {
      "cell_type": "code",
      "metadata": {
        "id": "NS2GWywBbAWo"
      },
      "source": [
        "noise_dim = 100\n",
        "num_examples_to_generate = 100\n",
        "\n",
        "# We will reuse this seed overtime (so it's easier)\n",
        "# to visualize progress in the animated GIF)\n",
        "from numpy import asarray\n",
        "seed_images = tf.random.normal([num_examples_to_generate, noise_dim])\n",
        "seed_labels = asarray([x for _ in range(10) for x in range(10)])\n",
        "print(seed_labels)"
      ],
      "execution_count": null,
      "outputs": []
    },
    {
      "cell_type": "markdown",
      "metadata": {
        "id": "jylSonrqSWfi"
      },
      "source": [
        "The training loop begins with generator receiving a random seed as input. That seed is used to produce an image. The discriminator is then used to classify real images (drawn from the training set) and fakes images (produced by the generator). The loss is calculated for each of these models, and the gradients are used to update the generator and discriminator."
      ]
    },
    {
      "cell_type": "code",
      "metadata": {
        "id": "3t5ibNo05jCB"
      },
      "source": [
        "# Notice the use of `tf.function`\n",
        "# This annotation causes the function to be \"compiled\".\n",
        "#@tf.function\n",
        "def train_step(images, labels):\n",
        "    noise_image = tf.random.normal([BATCH_SIZE, noise_dim])\n",
        "    noise_labels = label = randint(0, n_classes, BATCH_SIZE)\n",
        "    #print(\"coming into the function\")\n",
        "    with tf.GradientTape() as gen_tape, tf.GradientTape() as disc_tape:\n",
        "\n",
        "      real_output = discriminator([images, labels], training=True)\n",
        "      #print(\"salida con imagenes reales {:.5f}\".format(tf.math.reduce_mean(real_output)))\n",
        "      generated_images = generator([noise_image, noise_labels], training=True)\n",
        "      fake_output = discriminator([generated_images, noise_labels], training=True)\n",
        "      #print(\"salida con imagenes falsas {:.5f}\".format(tf.math.reduce_mean(fake_output)))\n",
        "      \n",
        "      gen_loss = generator_loss(fake_output)\n",
        "      disc_loss = discriminator_loss(real_output, fake_output)\n",
        "      \n",
        "    gradients_of_generator = gen_tape.gradient(gen_loss, generator.trainable_variables)\n",
        "    gradients_of_discriminator = disc_tape.gradient(disc_loss, discriminator.trainable_variables)\n",
        "\n",
        "    generator_optimizer.apply_gradients(zip(gradients_of_generator, generator.trainable_variables))\n",
        "    discriminator_optimizer.apply_gradients(zip(gradients_of_discriminator, discriminator.trainable_variables))"
      ],
      "execution_count": null,
      "outputs": []
    },
    {
      "cell_type": "code",
      "metadata": {
        "id": "2M7LmLtGEMQJ"
      },
      "source": [
        "def train(dataset, epochs):\n",
        "  for epoch in range(epochs):\n",
        "    start = time.time()\n",
        "    j = 0\n",
        "    for image_batch, label_batch in dataset:\n",
        "      #print(j)\n",
        "      train_step(image_batch, label_batch)\n",
        "      #j = j + 1\n",
        "\n",
        "    print(\"A NEW EPOCH\")\n",
        "    # Produce images for the GIF as we go\n",
        "    display.clear_output(wait=True)\n",
        "    generate_and_save_images(generator, epoch + 1, seed_images, seed_labels)\n",
        "\n",
        "    # Save the model every 15 epochs\n",
        "    if (epoch + 1) % 15 == 0:\n",
        "      checkpoint.save(file_prefix = checkpoint_prefix)\n",
        "\n",
        "    print ('Time for epoch {} is {} sec'.format(epoch + 1, time.time()-start))\n",
        "\n",
        "  # Generate after the final epoch\n",
        "  display.clear_output(wait=True)\n",
        "  generate_and_save_images(generator, epochs, seed_images, seed_labels)"
      ],
      "execution_count": null,
      "outputs": []
    },
    {
      "cell_type": "markdown",
      "metadata": {
        "id": "2aFF7Hk3XdeW"
      },
      "source": [
        "**Generate and save images**\n"
      ]
    },
    {
      "cell_type": "code",
      "metadata": {
        "id": "RmdVsmvhPxyy"
      },
      "source": [
        "def generate_and_save_images(model, epoch, test_input_images, test_input_labels):\n",
        "  # Notice `training` is set to False.\n",
        "  # This is so all layers run in inference mode (batchnorm).\n",
        "  predictions = model([test_input_images, test_input_labels], training=False)\n",
        "  dict_clothes ={0: \"T-shirt/top\",1: \"Trouser\",2: \"Pullover\",\n",
        "               3: \"Dress\",4: \"Coat\",5: \"Sandal\",6: \"Shirt\",\n",
        "               7: \"Sneaker\",8: \"Bag\",9: \"Ankle boot\"}\n",
        "  fig = plt.figure(figsize=(10,10))\n",
        "  pediction_length = predictions.shape[0]\n",
        "\n",
        "  labels = np.tile(np.arange(0,10),int(pediction_length/10)).reshape(-1,1)\n",
        "    \n",
        "  for i in range(predictions.shape[0]):\n",
        "      plt.tight_layout()\n",
        "\n",
        "      plt.subplot(10, 10, i+1)\n",
        "      # scale [-1, 1] to [0, 1]\n",
        "      image = (predictions[i, :, :, 0] + 1.0) / 2.0\n",
        "      plt.imshow(image, cmap='gray')\n",
        "      plt.axis('off')\n",
        "      label_predicted = labels[i][0]\n",
        "      plt.title(f'{dict_clothes.get(label_predicted)}')\n",
        "  plt.savefig('image_at_epoch_{:04d}.png'.format(epoch))\n",
        "  plt.show()"
      ],
      "execution_count": null,
      "outputs": []
    },
    {
      "cell_type": "code",
      "source": [
        "# dict_clothes ={0: \"T-shirt/top\",1: \"Trouser\",2: \"Pullover\",\n",
        "#                3: \"Dress\",4: \"Coat\",5: \"Sandal\",6: \"Shirt\",\n",
        "#                7: \"Sneaker\",8: \"Bag\",9: \"Ankle boot\"}\n",
        "\n",
        "# # function to plot and save sample images\n",
        "# def plot_sample_images(epoch ,rows=5,columns=4):\n",
        "\n",
        "#     z = np.random.normal(0, 1, (rows * columns, z_dim))\n",
        "#     a =np.arange(0,10)\n",
        "#     b =np.arange(0,10)\n",
        "\n",
        "#     labels = np.append(a,b).reshape(-1,1)\n",
        "    \n",
        "#     gen_imgs = generator.predict([z, labels])\n",
        "\n",
        "#     gen_imgs = 0.5 * gen_imgs + 0.5\n",
        "#     print(\"Epoch : %d \"%(epoch+1))\n",
        "#     fig, axs = plt.subplots(rows,\n",
        "#                             columns,\n",
        "#                             figsize =(50, 20),\n",
        "#                             sharey=True,\n",
        "#                             sharex=True)\n",
        "\n",
        "#     cnt = 0\n",
        "#     for i in range(rows):\n",
        "#         for j in range(columns):\n",
        "#             axs[i, j].imshow(gen_imgs[cnt, :, :, 0], cmap='gray')\n",
        "#             axs[i, j].axis('off')\n",
        "#             axs[i, j].set_title(\"Type: %s\" % dict_clothes.get(labels[cnt][0]))\n",
        "#             cnt += 1\n",
        "#     fig.savefig('image%d.jpg'%(epoch))"
      ],
      "metadata": {
        "id": "Y9LZra1Y7IeI"
      },
      "execution_count": null,
      "outputs": []
    },
    {
      "cell_type": "markdown",
      "metadata": {
        "id": "dZrd4CdjR-Fp"
      },
      "source": [
        "## Train the model\n",
        "Call the `train()` method defined above to train the generator and discriminator simultaneously. Note, training GANs can be tricky. It's important that the generator and discriminator do not overpower each other (e.g., that they train at a similar rate).\n",
        "\n",
        "At the beginning of the training, the generated images look like random noise. As training progresses, the generated digits will look increasingly real. After about 50 epochs, they resemble MNIST digits. This may take about one minute / epoch with the default settings on Colab."
      ]
    },
    {
      "cell_type": "code",
      "metadata": {
        "id": "Ly3UN0SLLY2l"
      },
      "source": [
        "BUFFER_SIZE = 60000\n",
        "BATCH_SIZE = 256\n",
        "EPOCHS = 1000\n",
        "train_dataset_shuffled = train_dataset.shuffle(BUFFER_SIZE).batch(BATCH_SIZE)\n",
        "train(train_dataset_shuffled, EPOCHS)"
      ],
      "execution_count": null,
      "outputs": []
    },
    {
      "cell_type": "markdown",
      "metadata": {
        "id": "rfM4YcPVPkNO"
      },
      "source": [
        "Restore the latest checkpoint."
      ]
    },
    {
      "cell_type": "code",
      "metadata": {
        "id": "XhXsd0srPo8c"
      },
      "source": [
        "checkpoint.restore(tf.train.latest_checkpoint(checkpoint_dir))"
      ],
      "execution_count": null,
      "outputs": []
    },
    {
      "cell_type": "markdown",
      "metadata": {
        "id": "P4M_vIbUi7c0"
      },
      "source": [
        "## Create a GIF\n"
      ]
    },
    {
      "cell_type": "code",
      "metadata": {
        "id": "WfO5wCdclHGL"
      },
      "source": [
        "# Display a single image using the epoch number\n",
        "def display_image(epoch_no):\n",
        "  return PIL.Image.open('image_at_epoch_{:04d}.png'.format(epoch_no))"
      ],
      "execution_count": null,
      "outputs": []
    },
    {
      "cell_type": "code",
      "metadata": {
        "id": "5x3q9_Oe5q0A"
      },
      "source": [
        "display_image(EPOCHS)"
      ],
      "execution_count": null,
      "outputs": []
    },
    {
      "cell_type": "markdown",
      "metadata": {
        "id": "NywiH3nL8guF"
      },
      "source": [
        "Use `imageio` to create an animated gif using the images saved during training."
      ]
    },
    {
      "cell_type": "code",
      "metadata": {
        "id": "IGKQgENQ8lEI"
      },
      "source": [
        "anim_file = 'dcgan.gif'\n",
        "\n",
        "with imageio.get_writer(anim_file, mode='I') as writer:\n",
        "  filenames = glob.glob('image*.png')\n",
        "  filenames = sorted(filenames)\n",
        "  last = -1\n",
        "  for i,filename in enumerate(filenames):\n",
        "    frame = 2*(i**0.5)\n",
        "    if round(frame) > round(last):\n",
        "      last = frame\n",
        "    else:\n",
        "      continue\n",
        "    image = imageio.imread(filename)\n",
        "    writer.append_data(image)\n",
        "  image = imageio.imread(filename)\n",
        "  writer.append_data(image)\n",
        "\n",
        "import IPython\n",
        "if IPython.version_info > (6,2,0,''):\n",
        "  display.Image(filename=anim_file)"
      ],
      "execution_count": null,
      "outputs": []
    },
    {
      "cell_type": "markdown",
      "metadata": {
        "id": "cGhC3-fMWSwl"
      },
      "source": [
        "If you're working in Colab you can download the animation with the code below:"
      ]
    },
    {
      "cell_type": "code",
      "metadata": {
        "id": "uV0yiKpzNP1b"
      },
      "source": [
        "try:\n",
        "  from google.colab import files\n",
        "except ImportError:\n",
        "   pass\n",
        "else:\n",
        "  files.download(anim_file)"
      ],
      "execution_count": null,
      "outputs": []
    }
  ]
}